{
 "cells": [
  {
   "cell_type": "code",
   "execution_count": 5,
   "metadata": {},
   "outputs": [
    {
     "name": "stdout",
     "output_type": "stream",
     "text": [
      "10\n",
      "20\n",
      "30\n",
      "30\n",
      "20\n",
      "10\n"
     ]
    }
   ],
   "source": [
    "import array as arr\n",
    "numbers = arr.array('i',[10, 20, 30])\n",
    "for i in numbers:\n",
    "    print(i)\n",
    "print(numbers[-1])\n",
    "print(numbers[-2])\n",
    "print(numbers[-3])"
   ]
  },
  {
   "cell_type": "code",
   "execution_count": 7,
   "metadata": {},
   "outputs": [
    {
     "name": "stdout",
     "output_type": "stream",
     "text": [
      "10\n",
      "20\n",
      "30\n"
     ]
    }
   ],
   "source": [
    "import numpy as np\n",
    "numbers = np.array([10, 20, 30])\n",
    "for i in numbers:\n",
    "    print(i)"
   ]
  },
  {
   "cell_type": "code",
   "execution_count": 40,
   "metadata": {},
   "outputs": [
    {
     "name": "stdout",
     "output_type": "stream",
     "text": [
      "['flour', 'milk', 'sugar', 'eggs', 'vanilla', 'salt']\n",
      "milk\n",
      "['flour', 'milk', 'grapes', 'sugar', 'vanilla', 'salt', 'banana']\n",
      "salt\n",
      "['flour', 'milk', 'grapes', 'sugar', 'vanilla', 'banana']\n"
     ]
    },
    {
     "data": {
      "text/plain": [
       "'banana'"
      ]
     },
     "execution_count": 40,
     "metadata": {},
     "output_type": "execute_result"
    }
   ],
   "source": [
    "inventory = [\"flour\", \"milk\", \"sugar\", \"eggs\", \"vanilla\", \"salt\"]\n",
    "print(inventory)\n",
    "print(inventory[1])\n",
    "inventory.append(\"banana\")\n",
    "inventory.insert(2, \"grapes\")\n",
    "inventory.remove(\"eggs\")\n",
    "print(inventory)\n",
    "print(inventory.pop(5))\n",
    "print(inventory)\n",
    "inventory.pop(5)"
   ]
  },
  {
   "cell_type": "code",
   "execution_count": 42,
   "metadata": {},
   "outputs": [
    {
     "name": "stdout",
     "output_type": "stream",
     "text": [
      "[4, 7, 6]\n",
      "[4, 7, 6]\n",
      "[4, 6, 8, 4]\n"
     ]
    }
   ],
   "source": [
    "names = [\"ravi\", \"sushant\", \"shriya\"]\n",
    "names2 = [\"john\", \"sophie\", \"gayathri\",\"kate\"]\n",
    "namelengths = []\n",
    "for name in names:\n",
    "    namelength = len(name)\n",
    "    namelengths.append(namelength)\n",
    "print(namelengths)\n",
    "\n",
    "def itemlengths(itemlist):\n",
    "    itemlengthlist = []\n",
    "    for item in itemlist:\n",
    "        itemlengthlist.append(len(item))\n",
    "    return itemlengthlist\n",
    "print(itemlengths(names))\n",
    "print(itemlengths(names2))\n",
    "\n"
   ]
  },
  {
   "cell_type": "code",
   "execution_count": 50,
   "metadata": {},
   "outputs": [
    {
     "name": "stdout",
     "output_type": "stream",
     "text": [
      "['h', 'b', 't', 'y']\n"
     ]
    }
   ],
   "source": [
    "\"write a function that when it takes in a list of items, it returns a list that is just the first letter of each word\"\n",
    "\"and another function that takes a list of strings and it should reverse that list\"\n",
    "words1 = [\"happy\", \"birthday\", \"to\", \"you\"]\n",
    "def firstletter(words):\n",
    "    wordlist = []\n",
    "    for word in words:\n",
    "        wordlist.append(word[0])\n",
    "    return wordlist\n",
    "print(firstletter(words1))"
   ]
  }
 ],
 "metadata": {
  "kernelspec": {
   "display_name": "Python 3",
   "language": "python",
   "name": "python3"
  },
  "language_info": {
   "codemirror_mode": {
    "name": "ipython",
    "version": 3
   },
   "file_extension": ".py",
   "mimetype": "text/x-python",
   "name": "python",
   "nbconvert_exporter": "python",
   "pygments_lexer": "ipython3",
   "version": "3.10.12"
  }
 },
 "nbformat": 4,
 "nbformat_minor": 2
}
