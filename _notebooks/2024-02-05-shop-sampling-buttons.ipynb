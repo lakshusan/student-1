{
 "cells": [
  {
   "cell_type": "markdown",
   "metadata": {},
   "source": [
    "---\n",
    "toc: false\n",
    "comments: true\n",
    "layout: post\n",
    "title: Shop Button Sample\n",
    "description: options for shop button sampling\n",
    "type: tangibles\n",
    "courses: { compsci: {week: 21} }\n",
    "---"
   ]
  },
  {
   "cell_type": "markdown",
   "metadata": {},
   "source": [
    "<!DOCTYPE html>\n",
    "<html lang=\"en\">\n",
    "<head>\n",
    "    <meta charset=\"UTF-8\">\n",
    "    <meta name=\"viewport\" content=\"width=device-width, initial-scale=1.0\">\n",
    "    <title>Ingredients Display</title>\n",
    "    <style>\n",
    "        body {\n",
    "            font-family: Arial, sans-serif;\n",
    "            text-align: center;\n",
    "        }\n",
    "        .ingredient-button {\n",
    "            display: inline-block;\n",
    "            margin: 10px;\n",
    "            padding: 10px 20px;\n",
    "            font-size: 16px;\n",
    "            cursor: pointer;\n",
    "            background-color: #4CAF50;\n",
    "            color: white;\n",
    "            border: none;\n",
    "            border-radius: 5px;\n",
    "        }\n",
    "    </style>\n",
    "</head>\n",
    "<body>\n",
    "\n",
    "<h2>Default Ingredients</h2>\n",
    "<button class=\"ingredient-button\" onclick=\"toggleIngredient('Eggs')\">Eggs</button>\n",
    "<button class=\"ingredient-button\" onclick=\"toggleIngredient('Milk')\">Milk</button>\n",
    "<button class=\"ingredient-button\" onclick=\"toggleIngredient('Butter')\">Butter</button>\n",
    "<button class=\"ingredient-button\" onclick=\"toggleIngredient('Sugar')\">Sugar</button>\n",
    "<button class=\"ingredient-button\" onclick=\"toggleIngredient('Flour')\">Flour</button>\n",
    "\n",
    "<h2>Additional Ingredients</h2>\n",
    "<button class=\"ingredient-button\" onclick=\"toggleIngredient('Cocoa')\">Cocoa</button>\n",
    "<button class=\"ingredient-button\" onclick=\"toggleIngredient('Lemon')\">Lemon</button>\n",
    "<button class=\"ingredient-button\" onclick=\"toggleIngredient('Banana')\">Banana</button>\n",
    "<button class=\"ingredient-button\" onclick=\"toggleIngredient('Apple')\">Apple</button>\n",
    "<button class=\"ingredient-button\" onclick=\"toggleIngredient('Pecan')\">Pecan</button>\n",
    "<button class=\"ingredient-button\" onclick=\"toggleIngredient('Cinnamon')\">Cinnamon</button>\n",
    "<button class=\"ingredient-button\" onclick=\"toggleIngredient('Yeast')\">Yeast</button>\n",
    "\n",
    "<script>\n",
    "    function toggleIngredient(ingredient) {\n",
    "        alert(\"You clicked on \" + ingredient);\n",
    "        // You can customize this function to perform specific actions when a button is clicked.\n",
    "        // For example, you can add/remove the ingredient from a list or perform any other action.\n",
    "    }\n",
    "</script>\n",
    "\n",
    "</body>\n",
    "</html>"
   ]
  }
 ],
 "metadata": {
  "language_info": {
   "name": "python"
  }
 },
 "nbformat": 4,
 "nbformat_minor": 2
}
