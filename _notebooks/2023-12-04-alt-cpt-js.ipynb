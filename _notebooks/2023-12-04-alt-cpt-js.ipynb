{
 "cells": [
  {
   "cell_type": "markdown",
   "metadata": {},
   "source": [
    "---\n",
    "toc: false\n",
    "comments: true\n",
    "layout: post\n",
    "title: cpt warmup - color generator\n",
    "description: cpt js code opt 2\n",
    "type: plans\n",
    "courses: { compsci: {week: 15} }\n",
    "---"
   ]
  },
  {
   "cell_type": "code",
   "execution_count": 1,
   "metadata": {
    "vscode": {
     "languageId": "html"
    }
   },
   "outputs": [
    {
     "ename": "SyntaxError",
     "evalue": "unterminated string literal (detected at line 9) (139735662.py, line 9)",
     "output_type": "error",
     "traceback": [
      "\u001b[0;36m  File \u001b[0;32m\"/tmp/ipykernel_74124/139735662.py\"\u001b[0;36m, line \u001b[0;32m9\u001b[0m\n\u001b[0;31m    // display an input prompt and store the user's binary input\u001b[0m\n\u001b[0m                                                 ^\u001b[0m\n\u001b[0;31mSyntaxError\u001b[0m\u001b[0;31m:\u001b[0m unterminated string literal (detected at line 9)\n"
     ]
    }
   ],
   "source": [
    "<body>\n",
    "    <script>\n",
    "        // function to convert binary to hex color\n",
    "        function binaryToHexColor(binary) {\n",
    "            var decimalValue = parseInt(binary, 2);\n",
    "            var hexValue = decimalValue.toString(16).toUpperCase();\n",
    "            return '#' + '0'.repeat(6 - hexValue.length) + hexValue;\n",
    "        }\n",
    "        // display an input prompt and store the user's binary input\n",
    "        var binaryInput = prompt(\"Enter a 24-bit binary value:\");\n",
    "        // checks if the input is a valid binary string (0 or 1 input for 24 characters)\n",
    "        if (!/^[01]{24}$/.test(binaryInput)) {\n",
    "            alert('Please enter a valid 24-bit binary value.');\n",
    "        } else {\n",
    "            // Convert binary input to hex color\n",
    "            var hexColor = binaryToHexColor(binaryInput);\n",
    "            // Display the user's input and the generated color\n",
    "            var outputArea = this.element.parents('.cell').find('.output');\n",
    "            var outputHTML = '<div style=\"color: ' + hexColor + ';\">Binary Input: ' + binaryInput + '</div>';\n",
    "            outputArea.append(outputHTML);\n",
    "        }\n",
    "        document.write(\"<p>Output text color</p>\");\n",
    "    </script>\n",
    "</body>"
   ]
  }
 ],
 "metadata": {
  "kernelspec": {
   "display_name": "Python 3",
   "language": "python",
   "name": "python3"
  },
  "language_info": {
   "codemirror_mode": {
    "name": "ipython",
    "version": 3
   },
   "file_extension": ".py",
   "mimetype": "text/x-python",
   "name": "python",
   "nbconvert_exporter": "python",
   "pygments_lexer": "ipython3",
   "version": "3.10.12"
  }
 },
 "nbformat": 4,
 "nbformat_minor": 2
}
