{
 "cells": [
  {
   "cell_type": "markdown",
   "metadata": {},
   "source": [
    "---\n",
    "toc: false\n",
    "comments: true\n",
    "layout: post\n",
    "title: cpt warmup - color generator\n",
    "description: cpt js code opt 2\n",
    "type: plans\n",
    "courses: { compsci: {week: 15} }\n",
    "---"
   ]
  },
  {
   "cell_type": "code",
   "execution_count": 1,
   "metadata": {
    "vscode": {
     "languageId": "html"
    }
   },
   "outputs": [
    {
     "ename": "SyntaxError",
     "evalue": "unterminated string literal (detected at line 9) (139735662.py, line 9)",
     "output_type": "error",
     "traceback": [
      "\u001b[0;36m  File \u001b[0;32m\"/tmp/ipykernel_74124/139735662.py\"\u001b[0;36m, line \u001b[0;32m9\u001b[0m\n\u001b[0;31m    // display an input prompt and store the user's binary input\u001b[0m\n\u001b[0m                                                 ^\u001b[0m\n\u001b[0;31mSyntaxError\u001b[0m\u001b[0;31m:\u001b[0m unterminated string literal (detected at line 9)\n"
     ]
    }
   ],
   "source": [
    "<html lang=\"en\">\n",
    "<head>\n",
    "    <meta charset=\"UTF-8\">\n",
    "    <meta name=\"viewport\" content=\"width=device-width, initial-scale=1.0\">\n",
    "    <title>Color Mixer</title>\n",
    "    <style>\n",
    "        #result {\n",
    "            margin-top: 20px;\n",
    "            width: 200px;\n",
    "            height: 200px;\n",
    "            border: 1px solid #000;\n",
    "        }\n",
    "\n",
    "        #colorText {\n",
    "            margin-top: 10px;\n",
    "        }\n",
    "    </style>\n",
    "    <script>\n",
    "        function translateColor(event) {\n",
    "            event.preventDefault();\n",
    "            // get input values\n",
    "            var redValue = document.getElementById(\"redValue\").value;\n",
    "            var greenValue = document.getElementById(\"greenValue\").value;\n",
    "            var blueValue = document.getElementById(\"blueValue\").value;\n",
    "            // validate input values (must be between 0 and 255)\n",
    "            if (!isValidInput(redValue) || !isValidInput(greenValue) || !isValidInput(blueValue)) {\n",
    "                alert(\"Please enter valid numbers between 0 and 255.\");\n",
    "                return;\n",
    "            }\n",
    "            // convert inputs to binary\n",
    "            var redBinary = decimalToBinary(redValue);\n",
    "            var greenBinary = decimalToBinary(greenValue);\n",
    "            var blueBinary = decimalToBinary(blueValue);\n",
    "            // display binary output\n",
    "            document.getElementById(\"colorText\").innerHTML = `\n",
    "                <p>Red: ${redBinary}</p>\n",
    "                <p>Green: ${greenBinary}</p>\n",
    "                <p>Blue: ${blueBinary}</p>\n",
    "            `;\n",
    "            // calculate the final color\n",
    "            var finalColor = \"rgb(\" + redValue + \",\" + greenValue + \",\" + blueValue + \")\";\n",
    "            // display the final color\n",
    "            document.getElementById(\"result\").style.backgroundColor = finalColor;\n",
    "        }\n",
    "        function decimalToBinary(decimalValue) {\n",
    "            return parseInt(decimalValue).toString(2);\n",
    "        }\n",
    "        function isValidInput(value) {\n",
    "            return !isNaN(value) && parseInt(value) >= 0 && parseInt(value) <= 255;\n",
    "        }\n",
    "    </script>\n",
    "</head>\n",
    "<body>\n",
    "    <form onsubmit=\"translateColor(event)\">\n",
    "        <label for=\"redValue\">Number 0-255 for Red</label><br>\n",
    "        <input type=\"number\" id=\"redValue\" name=\"redValue\" required><br>\n",
    "        <label for=\"greenValue\">Number 0-255 for Green</label><br>\n",
    "        <input type=\"number\" id=\"greenValue\" name=\"greenValue\" required><br>\n",
    "        <label for=\"blueValue\">Number 0-255 for Blue</label><br>\n",
    "        <input type=\"number\" id=\"blueValue\" name=\"blueValue\" required><br>\n",
    "        <input type=\"submit\" value=\"Submit\">\n",
    "    </form>\n",
    "    <div id=\"result\"></div>\n",
    "    <div id=\"colorText\"></div>\n",
    "</body>\n",
    "</html>"
   ]
  },
  {
   "cell_type": "markdown",
   "metadata": {},
   "source": [
    "| Name | Team+Indi+Teacher | Runtime | Issues | Key Commit(s) | Analytics |\n",
    "| Lakshanya S |  | [Binary Color Generator](https://trevorhuang1.github.io/cpt_warmup/binarycpt/colorgen) | [Ideation](https://trevorhuang1.github.io/cpt_warmup//2023/11/14/week13-plans.html) | [JS Color Generator](https://github.com/trevorhuang1/cpt_warmup/commit/9da25de7e4f114a33fdb5028e7b4d3d236659a6e), [Sample Color Input](https://github.com/trevorhuang1/cpt_warmup/commit/a9aa10d3a696960b662604dc98f4ea624c7f5fe5) | [Commits](https://github.com/trevorhuang1/cpt_warmup/commits/main), [Profile](https://github.com/lakshusan)|"
   ]
  }
 ],
 "metadata": {
  "kernelspec": {
   "display_name": "Python 3",
   "language": "python",
   "name": "python3"
  },
  "language_info": {
   "codemirror_mode": {
    "name": "ipython",
    "version": 3
   },
   "file_extension": ".py",
   "mimetype": "text/x-python",
   "name": "python",
   "nbconvert_exporter": "python",
   "pygments_lexer": "ipython3",
   "version": "3.10.12"
  }
 },
 "nbformat": 4,
 "nbformat_minor": 2
}
